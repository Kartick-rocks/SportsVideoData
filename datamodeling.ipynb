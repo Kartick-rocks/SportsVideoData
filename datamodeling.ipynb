{
  "nbformat": 4,
  "nbformat_minor": 0,
  "metadata": {
    "colab": {
      "name": "datamodeling.ipynb",
      "provenance": [],
      "collapsed_sections": [],
      "authorship_tag": "ABX9TyNRKQfO3RIj+JBKjjVoh4nM",
      "include_colab_link": true
    },
    "kernelspec": {
      "name": "python3",
      "display_name": "Python 3"
    },
    "language_info": {
      "name": "python"
    }
  },
  "cells": [
    {
      "cell_type": "markdown",
      "metadata": {
        "id": "view-in-github",
        "colab_type": "text"
      },
      "source": [
        "<a href=\"https://colab.research.google.com/github/Kartick-rocks/SportsVideoData/blob/main/datamodeling.ipynb\" target=\"_parent\"><img src=\"https://colab.research.google.com/assets/colab-badge.svg\" alt=\"Open In Colab\"/></a>"
      ]
    },
    {
      "cell_type": "code",
      "metadata": {
        "id": "QTdPj2wrb_6I"
      },
      "source": [
        "#Importing the necessary libraries\n",
        "import numpy as np\n",
        "import matplotlib.pyplot as plt\n",
        "import pandas as pd\n",
        "import csv\n",
        "from sklearn.impute import SimpleImputer\n",
        "from sklearn.compose import ColumnTransformer\n",
        "from sklearn.preprocessing import OneHotEncoder\n",
        "from sklearn.linear_model import LogisticRegression\n",
        "from sklearn.neighbors import KNeighborsClassifier\n",
        "from sklearn.svm import SVC\n",
        "from sklearn.tree import DecisionTreeClassifier\n",
        "from sklearn.ensemble import RandomForestClassifier\n",
        "from sklearn.metrics import confusion_matrix, accuracy_score\n",
        "from sklearn.model_selection import train_test_split\n",
        "\n",
        "#Importing the required dataset. X represents the matrix of independent features, y represents the dependent variable\n",
        "dataset = pd.read_csv('Rawvideo_data.csv')\n",
        "X = dataset.iloc[:, :-1]\n",
        "y = dataset.iloc[:, -1]\n",
        "\n",
        "#Deal with missing data using the SimpleImputer function and filling the column with just the mean\n",
        "imputer = SimpleImputer(missing_values=np.nan, strategy='mean')\n",
        "imputer.fit(X.iloc[:, [2]])\n",
        "X.iloc[:, [2]] = imputer.transform(X.iloc[:, [2]])\n",
        "\n",
        "#Encode categorical input variables \n",
        "ct = ColumnTransformer(transformers=[('encoder', OneHotEncoder(), [0, 1, 3, 4, 5])], remainder='passthrough')\n",
        "X = np.array(ct.fit_transform(X))\n",
        "\n",
        "\n",
        "fields = ['x1', 'x2', 'x3', 'x4', 'x5', 'x6', 'x7', 'x8', 'x9', 'x10', 'x11', 'x12', 'x13', 'x14', 'x15', 'x16', 'x17', 'x18', 'x19', 'Age'] \n",
        "\n",
        "#Encode the categorical output variable\n",
        "from sklearn.preprocessing import LabelEncoder\n",
        "le = LabelEncoder()\n",
        "y = le.fit_transform(y)\n",
        "\n",
        "\n",
        "filename = \"processedInputData.csv\"\n",
        "    \n",
        "#writing to csv file \n",
        "with open(filename, 'w') as csvfile: \n",
        "#    # creating a csv writer object \n",
        "     csvwriter = csv.writer(csvfile) \n",
        "        \n",
        "     csvwriter.writerow(fields)\n",
        "\n",
        "     csvwriter.writerows(X)     \n",
        "\n",
        "     #csvwriter.writerow(y)\n",
        "     csvfile.close()\n",
        "     #csvwriter.writerows(map(lambda x: [x], y))\n",
        "\n",
        "\n",
        "df = pd.read_csv('processedInputData.csv')\n",
        "new_column = pd.DataFrame({'Viewed': y})\n",
        "df = df.merge(new_column, left_index = True, right_index = True)\n",
        "df.to_csv('processedData.csv', index = False)\n",
        "\n",
        "\n",
        "#Python function for importing the required dataset and obtaining the required parameters\n",
        "def obtainParams(): \n",
        "  dataset = pd.read_csv('processedData.csv')\n",
        "  X = dataset.iloc[:, :-1]\n",
        "  y = dataset.iloc[:, -1]\n",
        "  X_train, X_test, y_train, y_test = train_test_split(X, y, test_size=0.2, random_state=1)\n",
        "  return X_train, X_test, y_train, y_test\n",
        "  "
      ],
      "execution_count": 1,
      "outputs": []
    },
    {
      "cell_type": "code",
      "metadata": {
        "id": "eOTFwzzbuozs"
      },
      "source": [
        "#Python function to run the Logistic Regression model and to return the accuracy score on the test data\n",
        "def RunLogisticRegression():\n",
        "  X_train, X_test, y_train, y_test = obtainParams()\n",
        "  classifier = LogisticRegression(random_state=1)\n",
        "  classifier.fit(X_train, y_train)\n",
        "  #Predict the test set results using Logistic Regression\n",
        "  y_pred = classifier.predict(X_test)\n",
        "  #print(y_pred.tolist())\n",
        "  #print(y_test.values.reshape(1, -1).ravel().tolist())\n",
        "  cm = confusion_matrix(y_test, y_pred)\n",
        "  score = accuracy_score(y_test, y_pred)\n",
        "  print(cm)\n",
        "  return score \n"
      ],
      "execution_count": 2,
      "outputs": []
    },
    {
      "cell_type": "code",
      "metadata": {
        "id": "NaYV4_jGQBTa"
      },
      "source": [
        "#Python function to run the KNeighborsClassifier and to return the accuracy score on the test data\n",
        "def RunKNN():\n",
        "  X_train, X_test, y_train, y_test = obtainParams()\n",
        "  classifier = KNeighborsClassifier(n_neighbors=5, metric='minkowski', p=2)\n",
        "  classifier.fit(X_train, y_train)\n",
        "  #Predict the test set results using Logistic Regression\n",
        "  y_pred = classifier.predict(X_test)\n",
        "  #print(y_pred.tolist())\n",
        "  #print(y_test.values.reshape(1, -1).ravel().tolist())\n",
        "  cm = confusion_matrix(y_test, y_pred)\n",
        "  score = accuracy_score(y_test, y_pred)\n",
        "  print(cm)\n",
        "  return score"
      ],
      "execution_count": 3,
      "outputs": []
    },
    {
      "cell_type": "code",
      "metadata": {
        "id": "XXDiqPNY286U"
      },
      "source": [
        "#Python function to run the SVM classifier and to return the accuracy score on the test data\n",
        "def RunSVM():\n",
        "  X_train, X_test, y_train, y_test = obtainParams()\n",
        "  classifier = SVC(kernel='linear', random_state=0)\n",
        "  classifier.fit(X_train, y_train)\n",
        "  #Predict the test set results using Logistic Regression\n",
        "  y_pred = classifier.predict(X_test)\n",
        "  #print(y_pred.tolist())\n",
        "  #print(y_test.values.reshape(1, -1).ravel().tolist())\n",
        "  cm = confusion_matrix(y_test, y_pred)\n",
        "  score = accuracy_score(y_test, y_pred)\n",
        "  print(cm)\n",
        "  return score"
      ],
      "execution_count": 4,
      "outputs": []
    },
    {
      "cell_type": "code",
      "metadata": {
        "id": "7vo5aKUt39ut"
      },
      "source": [
        "#Python function to run the Decision tree classifier and to return the accuracy score on the test data\n",
        "def RunDecisionTreeClassifier():\n",
        "  X_train, X_test, y_train, y_test = obtainParams()\n",
        "  classifier = DecisionTreeClassifier(criterion='entropy', random_state=0)\n",
        "  classifier.fit(X_train, y_train)\n",
        "  #Predict the test set results using Logistic Regression\n",
        "  y_pred = classifier.predict(X_test)\n",
        "  #print(y_pred.tolist())\n",
        "  #print(y_test.values.reshape(1, -1).ravel().tolist())\n",
        "  cm = confusion_matrix(y_test, y_pred)\n",
        "  score = accuracy_score(y_test, y_pred)\n",
        "  print(cm)\n",
        "  return score"
      ],
      "execution_count": 5,
      "outputs": []
    },
    {
      "cell_type": "code",
      "metadata": {
        "id": "dEYWnGn24vOc"
      },
      "source": [
        "#Python function to run the Random Forest classifier and to return the accuracy score on the test data\n",
        "def RunRandomForestClassifier():\n",
        "  X_train, X_test, y_train, y_test = obtainParams()\n",
        "  classifier = RandomForestClassifier(n_estimators=10, criterion='entropy', random_state=0)\n",
        "  classifier.fit(X_train, y_train)\n",
        "  #Predict the test set results using Logistic Regression\n",
        "  y_pred = classifier.predict(X_test)\n",
        "  #print(y_pred.tolist())\n",
        "  #print(y_test.values.reshape(1, -1).ravel().tolist())\n",
        "  cm = confusion_matrix(y_test, y_pred)\n",
        "  score = accuracy_score(y_test, y_pred)\n",
        "  print(cm)\n",
        "  return score"
      ],
      "execution_count": 6,
      "outputs": []
    },
    {
      "cell_type": "code",
      "metadata": {
        "colab": {
          "base_uri": "https://localhost:8080/"
        },
        "id": "7ar1eZlE5D6J",
        "outputId": "2cc938c9-9f9a-4141-ae40-f97ca340e8d0"
      },
      "source": [
        "score1 = RunLogisticRegression()\n",
        "score2 = RunKNN()\n",
        "score3 = RunSVM()\n",
        "score4 = RunDecisionTreeClassifier()\n",
        "score5 = RunRandomForestClassifier()\n",
        "\n",
        "print(score1)\n",
        "print(score2)\n",
        "print(score3)\n",
        "print(score4)\n",
        "print(score5)\n"
      ],
      "execution_count": 7,
      "outputs": [
        {
          "output_type": "stream",
          "text": [
            "[[6 6]\n",
            " [5 3]]\n",
            "[[4 8]\n",
            " [6 2]]\n",
            "[[7 5]\n",
            " [5 3]]\n",
            "[[5 7]\n",
            " [4 4]]\n",
            "[[8 4]\n",
            " [7 1]]\n",
            "0.45\n",
            "0.3\n",
            "0.5\n",
            "0.45\n",
            "0.45\n"
          ],
          "name": "stdout"
        }
      ]
    }
  ]
}